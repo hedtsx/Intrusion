{
 "cells": [
  {
   "cell_type": "code",
   "execution_count": 3,
   "id": "7d22ae12",
   "metadata": {},
   "outputs": [],
   "source": [
    "from pyspark.sql import SparkSession\n",
    "\n",
    "spark = SparkSession.builder.appName(\"Intrusion\").config(\"config.option\",\"value\").getOrCreate()"
   ]
  },
  {
   "cell_type": "code",
   "execution_count": 4,
   "id": "a9f1a0e9",
   "metadata": {},
   "outputs": [],
   "source": [
    "spark.stop()"
   ]
  },
  {
   "cell_type": "code",
   "execution_count": 317,
   "id": "ad76f766",
   "metadata": {},
   "outputs": [
    {
     "data": {
      "text/plain": [
       "['0,tcp,http,SF,181,5450,0,0,0,0,0,1,0,0,0,0,0,0,0,0,0,0,8,8,0.00,0.00,0.00,0.00,1.00,0.00,0.00,9,9,1.00,0.00,0.11,0.00,0.00,0.00,0.00,0.00,normal.',\n",
       " '0,tcp,http,SF,239,486,0,0,0,0,0,1,0,0,0,0,0,0,0,0,0,0,8,8,0.00,0.00,0.00,0.00,1.00,0.00,0.00,19,19,1.00,0.00,0.05,0.00,0.00,0.00,0.00,0.00,normal.',\n",
       " '0,tcp,http,SF,235,1337,0,0,0,0,0,1,0,0,0,0,0,0,0,0,0,0,8,8,0.00,0.00,0.00,0.00,1.00,0.00,0.00,29,29,1.00,0.00,0.03,0.00,0.00,0.00,0.00,0.00,normal.',\n",
       " '0,tcp,http,SF,219,1337,0,0,0,0,0,1,0,0,0,0,0,0,0,0,0,0,6,6,0.00,0.00,0.00,0.00,1.00,0.00,0.00,39,39,1.00,0.00,0.03,0.00,0.00,0.00,0.00,0.00,normal.',\n",
       " '0,tcp,http,SF,217,2032,0,0,0,0,0,1,0,0,0,0,0,0,0,0,0,0,6,6,0.00,0.00,0.00,0.00,1.00,0.00,0.00,49,49,1.00,0.00,0.02,0.00,0.00,0.00,0.00,0.00,normal.',\n",
       " '0,tcp,http,SF,217,2032,0,0,0,0,0,1,0,0,0,0,0,0,0,0,0,0,6,6,0.00,0.00,0.00,0.00,1.00,0.00,0.00,59,59,1.00,0.00,0.02,0.00,0.00,0.00,0.00,0.00,normal.',\n",
       " '0,tcp,http,SF,212,1940,0,0,0,0,0,1,0,0,0,0,0,0,0,0,0,0,1,2,0.00,0.00,0.00,0.00,1.00,0.00,1.00,1,69,1.00,0.00,1.00,0.04,0.00,0.00,0.00,0.00,normal.',\n",
       " '0,tcp,http,SF,159,4087,0,0,0,0,0,1,0,0,0,0,0,0,0,0,0,0,5,5,0.00,0.00,0.00,0.00,1.00,0.00,0.00,11,79,1.00,0.00,0.09,0.04,0.00,0.00,0.00,0.00,normal.',\n",
       " '0,tcp,http,SF,210,151,0,0,0,0,0,1,0,0,0,0,0,0,0,0,0,0,8,8,0.00,0.00,0.00,0.00,1.00,0.00,0.00,8,89,1.00,0.00,0.12,0.04,0.00,0.00,0.00,0.00,normal.',\n",
       " '0,tcp,http,SF,212,786,0,0,0,1,0,1,0,0,0,0,0,0,0,0,0,0,8,8,0.00,0.00,0.00,0.00,1.00,0.00,0.00,8,99,1.00,0.00,0.12,0.05,0.00,0.00,0.00,0.00,normal.']"
      ]
     },
     "execution_count": 317,
     "metadata": {},
     "output_type": "execute_result"
    }
   ],
   "source": [
    "rdd = spark.sparkContext.textFile('kddcup.data_10_percent.gz')\n",
    "rdd.take(10)"
   ]
  },
  {
   "cell_type": "markdown",
   "id": "da1d3c54",
   "metadata": {},
   "source": [
    "### Explore the format"
   ]
  },
  {
   "cell_type": "code",
   "execution_count": 318,
   "id": "869aa4c8",
   "metadata": {},
   "outputs": [
    {
     "name": "stdout",
     "output_type": "stream",
     "text": [
      "num of features:  42\n"
     ]
    },
    {
     "data": {
      "text/plain": [
       "[['0',\n",
       "  'tcp',\n",
       "  'http',\n",
       "  'SF',\n",
       "  '181',\n",
       "  '5450',\n",
       "  '0',\n",
       "  '0',\n",
       "  '0',\n",
       "  '0',\n",
       "  '0',\n",
       "  '1',\n",
       "  '0',\n",
       "  '0',\n",
       "  '0',\n",
       "  '0',\n",
       "  '0',\n",
       "  '0',\n",
       "  '0',\n",
       "  '0',\n",
       "  '0',\n",
       "  '0',\n",
       "  '8',\n",
       "  '8',\n",
       "  '0.00',\n",
       "  '0.00',\n",
       "  '0.00',\n",
       "  '0.00',\n",
       "  '1.00',\n",
       "  '0.00',\n",
       "  '0.00',\n",
       "  '9',\n",
       "  '9',\n",
       "  '1.00',\n",
       "  '0.00',\n",
       "  '0.11',\n",
       "  '0.00',\n",
       "  '0.00',\n",
       "  '0.00',\n",
       "  '0.00',\n",
       "  '0.00',\n",
       "  'normal.']]"
      ]
     },
     "execution_count": 318,
     "metadata": {},
     "output_type": "execute_result"
    }
   ],
   "source": [
    "rdd2 = rdd.map(lambda x: x.split(','))\n",
    "\n",
    "print('num of features: ', len(rdd2.take(1)[0]))\n",
    "\n",
    "rdd2.take(1)"
   ]
  },
  {
   "cell_type": "markdown",
   "id": "6bcbbe82",
   "metadata": {},
   "source": [
    "### Q5"
   ]
  },
  {
   "cell_type": "code",
   "execution_count": 363,
   "id": "e10cce68",
   "metadata": {},
   "outputs": [
    {
     "name": "stdout",
     "output_type": "stream",
     "text": [
      "+--------+-------------+-------+----+---------+---------+-------+\n",
      "|duration|protocol_type|service|flag|src_bytes|dst_bytes|  label|\n",
      "+--------+-------------+-------+----+---------+---------+-------+\n",
      "|       0|          tcp|   http|  SF|      181|     5450|normal.|\n",
      "|       0|          tcp|   http|  SF|      239|      486|normal.|\n",
      "|       0|          tcp|   http|  SF|      235|     1337|normal.|\n",
      "|       0|          tcp|   http|  SF|      219|     1337|normal.|\n",
      "|       0|          tcp|   http|  SF|      217|     2032|normal.|\n",
      "|       0|          tcp|   http|  SF|      217|     2032|normal.|\n",
      "|       0|          tcp|   http|  SF|      212|     1940|normal.|\n",
      "|       0|          tcp|   http|  SF|      159|     4087|normal.|\n",
      "|       0|          tcp|   http|  SF|      210|      151|normal.|\n",
      "|       0|          tcp|   http|  SF|      212|      786|normal.|\n",
      "+--------+-------------+-------+----+---------+---------+-------+\n",
      "only showing top 10 rows\n",
      "\n"
     ]
    }
   ],
   "source": [
    "rdd3 = rdd2.map(lambda x: x[:6]+[x[-1]])\n",
    "df = rdd3.toDF([\"duration\", \"protocol_type\", \"service\", \"flag\", \"src_bytes\", \"dst_bytes\", \"label\"])\n",
    "\n",
    "df.show(10)"
   ]
  },
  {
   "cell_type": "code",
   "execution_count": 320,
   "id": "26c4b9c9",
   "metadata": {},
   "outputs": [
    {
     "name": "stdout",
     "output_type": "stream",
     "text": [
      "root\n",
      " |-- duration: string (nullable = true)\n",
      " |-- protocol_type: string (nullable = true)\n",
      " |-- service: string (nullable = true)\n",
      " |-- flag: string (nullable = true)\n",
      " |-- src_bytes: string (nullable = true)\n",
      " |-- dst_bytes: string (nullable = true)\n",
      " |-- label: string (nullable = true)\n",
      "\n"
     ]
    }
   ],
   "source": [
    "df.printSchema()"
   ]
  },
  {
   "cell_type": "code",
   "execution_count": 329,
   "id": "421d4a59",
   "metadata": {},
   "outputs": [
    {
     "name": "stdout",
     "output_type": "stream",
     "text": [
      "+-------------+------+\n",
      "|protocol_type| count|\n",
      "+-------------+------+\n",
      "|          udp| 20354|\n",
      "|          tcp|190065|\n",
      "|         icmp|283602|\n",
      "+-------------+------+\n",
      "\n"
     ]
    }
   ],
   "source": [
    "import matplotlib.pyplot as plt\n",
    "temp = df.groupBy('protocol_type').count().orderBy('count',ascending=True)\n",
    "temp.show()"
   ]
  },
  {
   "cell_type": "code",
   "execution_count": 338,
   "id": "9a9d10db",
   "metadata": {},
   "outputs": [
    {
     "data": {
      "image/png": "[encoded data removed]",
      "text/plain": [
       "<Figure size 432x288 with 1 Axes>"
      ]
     },
     "metadata": {
      "needs_background": "light"
     },
     "output_type": "display_data"
    }
   ],
   "source": [
    "temp = temp.toPandas()\n",
    "temp.plot.bar(x=\"protocol_type\", y = \"count\")\n",
    "plt.title(\"Protocol_Type Bar Chart\")\n",
    "plt.show()"
   ]
  },
  {
   "cell_type": "code",
   "execution_count": 339,
   "id": "e8fe2dcd",
   "metadata": {},
   "outputs": [
    {
     "name": "stdout",
     "output_type": "stream",
     "text": [
      "+-----------+-----+\n",
      "|    service|count|\n",
      "+-----------+-----+\n",
      "|     tftp_u|    1|\n",
      "|      red_i|    1|\n",
      "|    pm_dump|    1|\n",
      "|      tim_i|    7|\n",
      "|        X11|   11|\n",
      "|      urh_i|   14|\n",
      "|        IRC|   43|\n",
      "|     Z39_50|   92|\n",
      "|    netstat|   95|\n",
      "|        ctf|   97|\n",
      "|       name|   98|\n",
      "|     kshell|   98|\n",
      "|netbios_dgm|   99|\n",
      "|       exec|   99|\n",
      "|   http_443|   99|\n",
      "|       ldap|  101|\n",
      "|      pop_2|  101|\n",
      "|       link|  102|\n",
      "| netbios_ns|  102|\n",
      "|        efs|  103|\n",
      "+-----------+-----+\n",
      "only showing top 20 rows\n",
      "\n"
     ]
    }
   ],
   "source": [
    "temp = df.groupBy('service').count().orderBy('count',ascending=True)\n",
    "temp.show()\n",
    "temp = temp.toPandas()"
   ]
  },
  {
   "cell_type": "code",
   "execution_count": 343,
   "id": "4b19e9cb",
   "metadata": {},
   "outputs": [
    {
     "data": {
      "image/png": "[encoded data removed]",
      "text/plain": [
       "<Figure size 432x288 with 1 Axes>"
      ]
     },
     "metadata": {
      "needs_background": "light"
     },
     "output_type": "display_data"
    }
   ],
   "source": [
    "temp.plot.bar(x=\"service\", y = \"count\")\n",
    "plt.title(\"Service Bar Chart\")\n",
    "plt.xticks(rotation='vertical',fontsize=6)\n",
    "plt.savefig('myimage.svg', format='svg', dpi=1200)\n",
    "plt.show()"
   ]
  },
  {
   "cell_type": "code",
   "execution_count": 360,
   "id": "abf80a31",
   "metadata": {},
   "outputs": [
    {
     "name": "stdout",
     "output_type": "stream",
     "text": [
      "+------+------+\n",
      "|  flag| count|\n",
      "+------+------+\n",
      "|   OTH|     8|\n",
      "|    S3|    10|\n",
      "|RSTOS0|    11|\n",
      "|    S2|    24|\n",
      "|    S1|    57|\n",
      "|    SH|   107|\n",
      "|  RSTO|   579|\n",
      "|  RSTR|   903|\n",
      "|   REJ| 26875|\n",
      "|    S0| 87007|\n",
      "|    SF|378440|\n",
      "+------+------+\n",
      "\n"
     ]
    }
   ],
   "source": [
    "#Check Distributions of Flag feature\n",
    "temp = df.groupBy('flag').count().orderBy('count',ascending=True)\n",
    "temp.show()"
   ]
  },
  {
   "cell_type": "code",
   "execution_count": 361,
   "id": "2da95f18",
   "metadata": {},
   "outputs": [
    {
     "data": {
      "image/png": "[encoded data removed]",
      "text/plain": [
       "<Figure size 432x288 with 1 Axes>"
      ]
     },
     "metadata": {
      "needs_background": "light"
     },
     "output_type": "display_data"
    }
   ],
   "source": [
    "temp = temp.toPandas()\n",
    "temp.plot.bar(x = \"flag\", y = \"count\")\n",
    "plt.show()"
   ]
  },
  {
   "cell_type": "code",
   "execution_count": 347,
   "id": "3419588d",
   "metadata": {},
   "outputs": [
    {
     "data": {
      "text/plain": [
       "count    494021.000000\n",
       "mean         47.979302\n",
       "std         707.746472\n",
       "min           0.000000\n",
       "25%           0.000000\n",
       "50%           0.000000\n",
       "75%           0.000000\n",
       "max       58329.000000\n",
       "Name: duration, dtype: float64"
      ]
     },
     "execution_count": 347,
     "metadata": {},
     "output_type": "execute_result"
    }
   ],
   "source": [
    "#Check Distributions of 'duration' feature\n",
    "dfpd = df.toPandas()\n",
    "dfpd['duration'] = dfpd['duration'].astype(int)\n",
    "dfpd['duration'].describe()"
   ]
  },
  {
   "cell_type": "code",
   "execution_count": 348,
   "id": "e9d3d570",
   "metadata": {},
   "outputs": [
    {
     "data": {
      "image/png": "[encoded data removed]",
      "text/plain": [
       "<Figure size 432x288 with 1 Axes>"
      ]
     },
     "metadata": {
      "needs_background": "light"
     },
     "output_type": "display_data"
    }
   ],
   "source": [
    "dfpd['duration'].hist()\n",
    "plt.show()"
   ]
  },
  {
   "cell_type": "code",
   "execution_count": 349,
   "id": "086680d2",
   "metadata": {},
   "outputs": [
    {
     "data": {
      "image/png": "[encoded data removed]",
      "text/plain": [
       "<Figure size 432x288 with 1 Axes>"
      ]
     },
     "metadata": {
      "needs_background": "light"
     },
     "output_type": "display_data"
    }
   ],
   "source": [
    "#Check Distributions of 'src_bytes' feature\n",
    "dfpd['src_bytes'] = dfpd['src_bytes'].astype(float)\n",
    "dfpd['src_bytes'].hist()\n",
    "plt.show()"
   ]
  },
  {
   "cell_type": "code",
   "execution_count": 350,
   "id": "8b88d2f8",
   "metadata": {},
   "outputs": [
    {
     "data": {
      "text/plain": [
       "count    4.940210e+05\n",
       "mean     3.025610e+03\n",
       "std      9.882181e+05\n",
       "min      0.000000e+00\n",
       "25%      4.500000e+01\n",
       "50%      5.200000e+02\n",
       "75%      1.032000e+03\n",
       "max      6.933756e+08\n",
       "Name: src_bytes, dtype: float64"
      ]
     },
     "execution_count": 350,
     "metadata": {},
     "output_type": "execute_result"
    }
   ],
   "source": [
    "dfpd['src_bytes'].describe()"
   ]
  },
  {
   "cell_type": "code",
   "execution_count": 351,
   "id": "5fb68edb",
   "metadata": {},
   "outputs": [],
   "source": [
    "dfpd[\"dst_bytes\"] = dfpd[\"dst_bytes\"].astype(int)\n",
    "dfpd['src_bytes'] = dfpd['src_bytes'].astype(int)\n",
    "dfpd['duration'] = dfpd['duration'].astype(int)"
   ]
  },
  {
   "cell_type": "code",
   "execution_count": 352,
   "id": "f00945c3",
   "metadata": {},
   "outputs": [
    {
     "data": {
      "image/png": "[encoded data removed]",
      "text/plain": [
       "<Figure size 432x288 with 2 Axes>"
      ]
     },
     "metadata": {
      "needs_background": "light"
     },
     "output_type": "display_data"
    }
   ],
   "source": [
    "import seaborn as sns\n",
    "sns.heatmap(dfpd.corr(),annot=True)\n",
    "plt.show()"
   ]
  },
  {
   "cell_type": "code",
   "execution_count": 364,
   "id": "5b1572b8",
   "metadata": {},
   "outputs": [
    {
     "name": "stdout",
     "output_type": "stream",
     "text": [
      "+--------+-------------+-------+----+---------+---------+---------+\n",
      "|duration|protocol_type|service|flag|src_bytes|dst_bytes|label_new|\n",
      "+--------+-------------+-------+----+---------+---------+---------+\n",
      "|       0|          tcp|   http|  SF|      181|     5450|   normal|\n",
      "|       0|          tcp|   http|  SF|      239|      486|   normal|\n",
      "|       0|          tcp|   http|  SF|      235|     1337|   normal|\n",
      "|       0|          tcp|   http|  SF|      219|     1337|   normal|\n",
      "|       0|          tcp|   http|  SF|      217|     2032|   normal|\n",
      "|       0|          tcp|   http|  SF|      217|     2032|   normal|\n",
      "|       0|          tcp|   http|  SF|      212|     1940|   normal|\n",
      "|       0|          tcp|   http|  SF|      159|     4087|   normal|\n",
      "|       0|          tcp|   http|  SF|      210|      151|   normal|\n",
      "|       0|          tcp|   http|  SF|      212|      786|   normal|\n",
      "|       0|          tcp|   http|  SF|      210|      624|   normal|\n",
      "|       0|          tcp|   http|  SF|      177|     1985|   normal|\n",
      "|       0|          tcp|   http|  SF|      222|      773|   normal|\n",
      "|       0|          tcp|   http|  SF|      256|     1169|   normal|\n",
      "|       0|          tcp|   http|  SF|      241|      259|   normal|\n",
      "|       0|          tcp|   http|  SF|      260|     1837|   normal|\n",
      "|       0|          tcp|   http|  SF|      241|      261|   normal|\n",
      "|       0|          tcp|   http|  SF|      257|      818|   normal|\n",
      "|       0|          tcp|   http|  SF|      233|      255|   normal|\n",
      "|       0|          tcp|   http|  SF|      233|      504|   normal|\n",
      "+--------+-------------+-------+----+---------+---------+---------+\n",
      "only showing top 20 rows\n",
      "\n"
     ]
    }
   ],
   "source": [
    "from pyspark.sql import functions as f\n",
    "df = df.withColumn('label_new', f.when(f.col('label') ==  \"normal.\", \"normal\").otherwise(\"attack\"))\n",
    "df = df.drop(df.label)\n",
    "df.show()"
   ]
  },
  {
   "cell_type": "code",
   "execution_count": 356,
   "id": "f8b8017c",
   "metadata": {},
   "outputs": [
    {
     "name": "stdout",
     "output_type": "stream",
     "text": [
      "+---------+------+\n",
      "|label_new| count|\n",
      "+---------+------+\n",
      "|   normal| 97278|\n",
      "|   attack|396743|\n",
      "+---------+------+\n",
      "\n"
     ]
    }
   ],
   "source": [
    "temp = df.groupBy('label_new').count()\n",
    "temp.show()"
   ]
  },
  {
   "cell_type": "code",
   "execution_count": 359,
   "id": "aecbf34b",
   "metadata": {},
   "outputs": [
    {
     "data": {
      "image/png": "[encoded data removed]",
      "text/plain": [
       "<Figure size 432x288 with 1 Axes>"
      ]
     },
     "metadata": {
      "needs_background": "light"
     },
     "output_type": "display_data"
    }
   ],
   "source": [
    "temp = temp.toPandas()\n",
    "temp.plot.bar(x = \"label_new\", y = \"count\")\n",
    "plt.show()"
   ]
  },
  {
   "cell_type": "code",
   "execution_count": 365,
   "id": "b3747ab4",
   "metadata": {},
   "outputs": [
    {
     "data": {
      "text/plain": [
       "[('duration', 'int'),\n",
       " ('protocol_type', 'string'),\n",
       " ('service', 'string'),\n",
       " ('flag', 'string'),\n",
       " ('src_bytes', 'int'),\n",
       " ('dst_bytes', 'int'),\n",
       " ('label_new', 'string')]"
      ]
     },
     "execution_count": 365,
     "metadata": {},
     "output_type": "execute_result"
    }
   ],
   "source": [
    "df_changed_dtypes =  df.selectExpr(\"cast(duration as int) duration\",\n",
    "                     \"protocol_type\",\n",
    "                     \"service\",\n",
    "                     \"flag\",\n",
    "                     \"cast(src_bytes as int) src_bytes\",\n",
    "                     \"cast(dst_bytes as int) dst_bytes\",\n",
    "                     \"label_new\")\n",
    "\n",
    "df_changed_dtypes.dtypes"
   ]
  },
  {
   "cell_type": "code",
   "execution_count": 366,
   "id": "501a3afc",
   "metadata": {},
   "outputs": [
    {
     "name": "stdout",
     "output_type": "stream",
     "text": [
      "+--------+-------+----+---------+---------+---------+--------------------+\n",
      "|duration|service|flag|src_bytes|dst_bytes|label_new|protocol_type_encode|\n",
      "+--------+-------+----+---------+---------+---------+--------------------+\n",
      "|       0|   http|  SF|      181|     5450|   normal|                   1|\n",
      "|       0|   http|  SF|      239|      486|   normal|                   1|\n",
      "|       0|   http|  SF|      235|     1337|   normal|                   1|\n",
      "|       0|   http|  SF|      219|     1337|   normal|                   1|\n",
      "|       0|   http|  SF|      217|     2032|   normal|                   1|\n",
      "|       0|   http|  SF|      217|     2032|   normal|                   1|\n",
      "|       0|   http|  SF|      212|     1940|   normal|                   1|\n",
      "|       0|   http|  SF|      159|     4087|   normal|                   1|\n",
      "|       0|   http|  SF|      210|      151|   normal|                   1|\n",
      "|       0|   http|  SF|      212|      786|   normal|                   1|\n",
      "|       0|   http|  SF|      210|      624|   normal|                   1|\n",
      "|       0|   http|  SF|      177|     1985|   normal|                   1|\n",
      "|       0|   http|  SF|      222|      773|   normal|                   1|\n",
      "|       0|   http|  SF|      256|     1169|   normal|                   1|\n",
      "|       0|   http|  SF|      241|      259|   normal|                   1|\n",
      "|       0|   http|  SF|      260|     1837|   normal|                   1|\n",
      "|       0|   http|  SF|      241|      261|   normal|                   1|\n",
      "|       0|   http|  SF|      257|      818|   normal|                   1|\n",
      "|       0|   http|  SF|      233|      255|   normal|                   1|\n",
      "|       0|   http|  SF|      233|      504|   normal|                   1|\n",
      "+--------+-------+----+---------+---------+---------+--------------------+\n",
      "only showing top 20 rows\n",
      "\n"
     ]
    }
   ],
   "source": [
    "#Encoding the protocol type column\n",
    "df_new = df_changed_dtypes.withColumn('protocol_type_encode', f.when(f.col('protocol_type') ==  \"tcp\", 1)\\\n",
    "                                      .when(f.col('protocol_type') ==  \"udp\", 2).otherwise(3))\n",
    "df_new = df_new.drop(df.protocol_type)\n",
    "\n",
    "\n",
    "df_new.show()"
   ]
  },
  {
   "cell_type": "code",
   "execution_count": 367,
   "id": "451f903a",
   "metadata": {},
   "outputs": [],
   "source": [
    "#Encoding the flag column\n",
    "df_new = df_new.withColumn('flag_encode', f.when(f.col('flag') ==  \"SF\", 1)\\\n",
    "                           .when(f.col('flag') ==  \"S0\", 2)\\\n",
    "                           .when(f.col('flag') ==  \"REJ\", 3)\\\n",
    "                           .when(f.col('flag') ==  \"RSTR\", 4)\\\n",
    "                           .when(f.col('flag') ==  \"RSTO\", 5)\\\n",
    "                           .when(f.col('flag') ==  \"SH\", 6)\\\n",
    "                           .when(f.col('flag') ==  \"S1\", 7)\\\n",
    "                           .when(f.col('flag') ==  \"S2\", 8)\\\n",
    "                           .when(f.col('flag') ==  \"RSTOS0\", 9)\\\n",
    "                           .when(f.col('flag') ==  \"S3\", 10)\\\n",
    "                           .when(f.col('flag') ==  \"OTH\", 11))\n",
    "\n",
    "df_new = df_new.drop(df.flag)"
   ]
  },
  {
   "cell_type": "code",
   "execution_count": 368,
   "id": "77a15800",
   "metadata": {},
   "outputs": [
    {
     "name": "stdout",
     "output_type": "stream",
     "text": [
      "+--------+---------+---------+---------+--------------------+-----------+\n",
      "|duration|src_bytes|dst_bytes|label_new|protocol_type_encode|flag_encode|\n",
      "+--------+---------+---------+---------+--------------------+-----------+\n",
      "|       0|      181|     5450|   normal|                   1|          1|\n",
      "|       0|      239|      486|   normal|                   1|          1|\n",
      "|       0|      235|     1337|   normal|                   1|          1|\n",
      "|       0|      219|     1337|   normal|                   1|          1|\n",
      "|       0|      217|     2032|   normal|                   1|          1|\n",
      "|       0|      217|     2032|   normal|                   1|          1|\n",
      "|       0|      212|     1940|   normal|                   1|          1|\n",
      "|       0|      159|     4087|   normal|                   1|          1|\n",
      "|       0|      210|      151|   normal|                   1|          1|\n",
      "|       0|      212|      786|   normal|                   1|          1|\n",
      "|       0|      210|      624|   normal|                   1|          1|\n",
      "|       0|      177|     1985|   normal|                   1|          1|\n",
      "|       0|      222|      773|   normal|                   1|          1|\n",
      "|       0|      256|     1169|   normal|                   1|          1|\n",
      "|       0|      241|      259|   normal|                   1|          1|\n",
      "|       0|      260|     1837|   normal|                   1|          1|\n",
      "|       0|      241|      261|   normal|                   1|          1|\n",
      "|       0|      257|      818|   normal|                   1|          1|\n",
      "|       0|      233|      255|   normal|                   1|          1|\n",
      "|       0|      233|      504|   normal|                   1|          1|\n",
      "+--------+---------+---------+---------+--------------------+-----------+\n",
      "only showing top 20 rows\n",
      "\n"
     ]
    }
   ],
   "source": [
    "#Drop Service feature primarily because of too many same values, also encoding is hard for too many options\n",
    "\n",
    "df_new = df_new.drop(df.service)\n",
    "df_new.show()\n"
   ]
  },
  {
   "cell_type": "code",
   "execution_count": 369,
   "id": "42a27cb6",
   "metadata": {},
   "outputs": [
    {
     "name": "stdout",
     "output_type": "stream",
     "text": [
      "+--------+---------+---------+---------+--------------------+-----------+-------------+\n",
      "|duration|src_bytes|dst_bytes|label_new|protocol_type_encode|flag_encode|label_numeric|\n",
      "+--------+---------+---------+---------+--------------------+-----------+-------------+\n",
      "|       0|      181|     5450|   normal|                   1|          1|            0|\n",
      "|       0|      239|      486|   normal|                   1|          1|            0|\n",
      "|       0|      235|     1337|   normal|                   1|          1|            0|\n",
      "|       0|      219|     1337|   normal|                   1|          1|            0|\n",
      "|       0|      217|     2032|   normal|                   1|          1|            0|\n",
      "|       0|      217|     2032|   normal|                   1|          1|            0|\n",
      "|       0|      212|     1940|   normal|                   1|          1|            0|\n",
      "|       0|      159|     4087|   normal|                   1|          1|            0|\n",
      "|       0|      210|      151|   normal|                   1|          1|            0|\n",
      "|       0|      212|      786|   normal|                   1|          1|            0|\n",
      "|       0|      210|      624|   normal|                   1|          1|            0|\n",
      "|       0|      177|     1985|   normal|                   1|          1|            0|\n",
      "|       0|      222|      773|   normal|                   1|          1|            0|\n",
      "|       0|      256|     1169|   normal|                   1|          1|            0|\n",
      "|       0|      241|      259|   normal|                   1|          1|            0|\n",
      "|       0|      260|     1837|   normal|                   1|          1|            0|\n",
      "|       0|      241|      261|   normal|                   1|          1|            0|\n",
      "|       0|      257|      818|   normal|                   1|          1|            0|\n",
      "|       0|      233|      255|   normal|                   1|          1|            0|\n",
      "|       0|      233|      504|   normal|                   1|          1|            0|\n",
      "+--------+---------+---------+---------+--------------------+-----------+-------------+\n",
      "only showing top 20 rows\n",
      "\n"
     ]
    }
   ],
   "source": [
    "#make target variable numeric attack = 1, normal = 0\n",
    "\n",
    "df_new = df_new.withColumn('label_numeric', f.when(f.col('label_new') ==  \"normal\", 0).otherwise(1))\n",
    "\n",
    "df_new.show()"
   ]
  },
  {
   "cell_type": "code",
   "execution_count": 370,
   "id": "be548931",
   "metadata": {},
   "outputs": [
    {
     "name": "stdout",
     "output_type": "stream",
     "text": [
      "+--------+---------+---------+---------+--------------------+-----------+-------------+--------------------+\n",
      "|duration|src_bytes|dst_bytes|label_new|protocol_type_encode|flag_encode|label_numeric|            features|\n",
      "+--------+---------+---------+---------+--------------------+-----------+-------------+--------------------+\n",
      "|       0|      181|     5450|   normal|                   1|          1|            0|[0.0,1.0,1.0,181....|\n",
      "|       0|      239|      486|   normal|                   1|          1|            0|[0.0,1.0,1.0,239....|\n",
      "|       0|      235|     1337|   normal|                   1|          1|            0|[0.0,1.0,1.0,235....|\n",
      "+--------+---------+---------+---------+--------------------+-----------+-------------+--------------------+\n",
      "only showing top 3 rows\n",
      "\n"
     ]
    }
   ],
   "source": [
    "from pyspark.ml.linalg import Vectors\n",
    "from pyspark.ml.feature import VectorAssembler\n",
    "# transformer\n",
    "vector_assembler = VectorAssembler(inputCols=['duration', 'protocol_type_encode',  'flag_encode',\n",
    "                                              'src_bytes','dst_bytes'],outputCol=\"features\")\n",
    "df_temp = vector_assembler.transform(df_new)\n",
    "df_temp.show(3)"
   ]
  },
  {
   "cell_type": "code",
   "execution_count": 371,
   "id": "e488a2eb",
   "metadata": {},
   "outputs": [],
   "source": [
    "\n",
    "from pyspark.ml.classification import RandomForestClassifier\n",
    "\n",
    "(train,test) = df_temp.randomSplit([0.6,0.4],seed = 0)\n",
    "\n",
    "rf = RandomForestClassifier(featuresCol = 'features', labelCol = 'label_numeric')\n",
    "\n",
    "model = rf.fit(train)\n",
    "\n",
    "predictions = model.transform(test)"
   ]
  },
  {
   "cell_type": "code",
   "execution_count": 372,
   "id": "f47e9e15",
   "metadata": {},
   "outputs": [
    {
     "name": "stdout",
     "output_type": "stream",
     "text": [
      "Accuracy = 0.984448026192798\n"
     ]
    }
   ],
   "source": [
    "from pyspark.ml.evaluation import MulticlassClassificationEvaluator\n",
    "\n",
    "evaluator = MulticlassClassificationEvaluator(labelCol=\"label_numeric\", predictionCol=\"prediction\", metricName=\"accuracy\")\n",
    "accuracy = evaluator.evaluate(predictions)\n",
    "print(\"Accuracy = %s\" % (accuracy))\n"
   ]
  },
  {
   "cell_type": "code",
   "execution_count": 373,
   "id": "d7361598",
   "metadata": {},
   "outputs": [],
   "source": [
    "from pyspark.mllib.evaluation import BinaryClassificationMetrics\n",
    "\n",
    "predictions_labels = predictions.selectExpr(\"cast(prediction as double) prediction\",\n",
    "                                            \"cast(label_numeric as double) label\")\n",
    "metrics = BinaryClassificationMetrics(predictions_labels.rdd)"
   ]
  },
  {
   "cell_type": "code",
   "execution_count": 374,
   "id": "e010c33f",
   "metadata": {},
   "outputs": [],
   "source": [
    "TP = predictions_labels[(predictions_labels.label == 1) & (predictions_labels.prediction == 1)].count()\n",
    "TN = predictions_labels[(predictions_labels.label == 0) & (predictions_labels.prediction == 0)].count()\n",
    "FN = predictions_labels[(predictions_labels.label == 1) & (predictions_labels.prediction == 0)].count()\n",
    "FP = predictions_labels[(predictions_labels.label == 0) & (predictions_labels.prediction == 1)].count()"
   ]
  },
  {
   "cell_type": "code",
   "execution_count": 375,
   "id": "adffe4d6",
   "metadata": {},
   "outputs": [
    {
     "name": "stdout",
     "output_type": "stream",
     "text": [
      "Recall: 0.9947351868159517\n",
      "Precision:  0.9860272845171588\n",
      "F1 score: 0.990362094663143\n"
     ]
    }
   ],
   "source": [
    "recall = float(TP) / (TP + FN)\n",
    "precision = float(TP) / (TP + FP)\n",
    "f1 = 2 * ((precision * recall)/(precision + recall))\n",
    "\n",
    "print(\"Recall:\", recall)\n",
    "print(\"Precision: \", precision)\n",
    "print(\"F1 score:\", f1)"
   ]
  },
  {
   "cell_type": "code",
   "execution_count": 376,
   "id": "9e09cc66",
   "metadata": {},
   "outputs": [
    {
     "data": {
      "text/plain": [
       "0.9685903378412912"
      ]
     },
     "execution_count": 376,
     "metadata": {},
     "output_type": "execute_result"
    }
   ],
   "source": [
    "metrics.areaUnderROC"
   ]
  },
  {
   "cell_type": "code",
   "execution_count": 377,
   "id": "bc9db0fa",
   "metadata": {},
   "outputs": [
    {
     "data": {
      "text/plain": [
       "0.9855461825479681"
      ]
     },
     "execution_count": 377,
     "metadata": {},
     "output_type": "execute_result"
    }
   ],
   "source": [
    "metrics.areaUnderPR"
   ]
  }
 ],
 "metadata": {
  "kernelspec": {
   "display_name": "Python 3",
   "language": "python",
   "name": "python3"
  },
  "language_info": {
   "codemirror_mode": {
    "name": "ipython",
    "version": 3
   },
   "file_extension": ".py",
   "mimetype": "text/x-python",
   "name": "python",
   "nbconvert_exporter": "python",
   "pygments_lexer": "ipython3",
   "version": "3.8.8"
  }
 },
 "nbformat": 4,
 "nbformat_minor": 5
}
